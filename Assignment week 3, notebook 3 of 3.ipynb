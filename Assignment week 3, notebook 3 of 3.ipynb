{
 "cells": [
  {
   "cell_type": "markdown",
   "metadata": {},
   "source": [
    "## Peer-graded Assignment week 3, notebook 3 of 3: Segmenting and Clustering Neighborhoods in Toronto\n",
    "This notebook is used for assignment week 3, Datascience Capstone.\n",
    "At first, I copy relevant parts from notebook 1 and 2:"
   ]
  },
  {
   "cell_type": "code",
   "execution_count": 1,
   "metadata": {},
   "outputs": [
    {
     "name": "stdout",
     "output_type": "stream",
     "text": [
      "Requirement already satisfied: beautifulsoup4 in c:\\users\\oxana_r7lkrla\\anaconda3\\lib\\site-packages (4.7.1)\n",
      "Requirement already satisfied: soupsieve>=1.2 in c:\\users\\oxana_r7lkrla\\anaconda3\\lib\\site-packages (from beautifulsoup4) (1.8)\n",
      "Requirement already satisfied: lxml in c:\\users\\oxana_r7lkrla\\anaconda3\\lib\\site-packages (4.3.2)\n",
      "Requirement already satisfied: requests in c:\\users\\oxana_r7lkrla\\anaconda3\\lib\\site-packages (2.21.0)\n",
      "Requirement already satisfied: urllib3<1.25,>=1.21.1 in c:\\users\\oxana_r7lkrla\\anaconda3\\lib\\site-packages (from requests) (1.24.1)\n",
      "Requirement already satisfied: certifi>=2017.4.17 in c:\\users\\oxana_r7lkrla\\anaconda3\\lib\\site-packages (from requests) (2019.3.9)\n",
      "Requirement already satisfied: chardet<3.1.0,>=3.0.2 in c:\\users\\oxana_r7lkrla\\anaconda3\\lib\\site-packages (from requests) (3.0.4)\n",
      "Requirement already satisfied: idna<2.9,>=2.5 in c:\\users\\oxana_r7lkrla\\anaconda3\\lib\\site-packages (from requests) (2.8)\n"
     ]
    }
   ],
   "source": [
    "!pip install beautifulsoup4\n",
    "!pip install lxml\n",
    "!pip install requests\n",
    "from bs4 import BeautifulSoup\n",
    "import requests\n",
    "import pandas as pd\n",
    "import numpy as np"
   ]
  },
  {
   "cell_type": "code",
   "execution_count": 2,
   "metadata": {},
   "outputs": [
    {
     "data": {
      "text/html": [
       "<div>\n",
       "<style scoped>\n",
       "    .dataframe tbody tr th:only-of-type {\n",
       "        vertical-align: middle;\n",
       "    }\n",
       "\n",
       "    .dataframe tbody tr th {\n",
       "        vertical-align: top;\n",
       "    }\n",
       "\n",
       "    .dataframe thead th {\n",
       "        text-align: right;\n",
       "    }\n",
       "</style>\n",
       "<table border=\"1\" class=\"dataframe\">\n",
       "  <thead>\n",
       "    <tr style=\"text-align: right;\">\n",
       "      <th></th>\n",
       "      <th>Postcode</th>\n",
       "      <th>Borough</th>\n",
       "      <th>Neighbourhood</th>\n",
       "      <th>Latitude</th>\n",
       "      <th>Longitude</th>\n",
       "    </tr>\n",
       "  </thead>\n",
       "  <tbody>\n",
       "    <tr>\n",
       "      <th>0</th>\n",
       "      <td>M1B</td>\n",
       "      <td>Scarborough</td>\n",
       "      <td>Rouge,Malvern</td>\n",
       "      <td>43.806686</td>\n",
       "      <td>-79.194353</td>\n",
       "    </tr>\n",
       "    <tr>\n",
       "      <th>1</th>\n",
       "      <td>M1C</td>\n",
       "      <td>Scarborough</td>\n",
       "      <td>Highland Creek,Rouge Hill,Port Union</td>\n",
       "      <td>43.784535</td>\n",
       "      <td>-79.160497</td>\n",
       "    </tr>\n",
       "    <tr>\n",
       "      <th>2</th>\n",
       "      <td>M1E</td>\n",
       "      <td>Scarborough</td>\n",
       "      <td>Guildwood,Morningside,West Hill</td>\n",
       "      <td>43.763573</td>\n",
       "      <td>-79.188711</td>\n",
       "    </tr>\n",
       "    <tr>\n",
       "      <th>3</th>\n",
       "      <td>M1G</td>\n",
       "      <td>Scarborough</td>\n",
       "      <td>Woburn</td>\n",
       "      <td>43.770992</td>\n",
       "      <td>-79.216917</td>\n",
       "    </tr>\n",
       "    <tr>\n",
       "      <th>4</th>\n",
       "      <td>M1H</td>\n",
       "      <td>Scarborough</td>\n",
       "      <td>Cedarbrae</td>\n",
       "      <td>43.773136</td>\n",
       "      <td>-79.239476</td>\n",
       "    </tr>\n",
       "  </tbody>\n",
       "</table>\n",
       "</div>"
      ],
      "text/plain": [
       "  Postcode      Borough                         Neighbourhood   Latitude  \\\n",
       "0      M1B  Scarborough                         Rouge,Malvern  43.806686   \n",
       "1      M1C  Scarborough  Highland Creek,Rouge Hill,Port Union  43.784535   \n",
       "2      M1E  Scarborough       Guildwood,Morningside,West Hill  43.763573   \n",
       "3      M1G  Scarborough                                Woburn  43.770992   \n",
       "4      M1H  Scarborough                             Cedarbrae  43.773136   \n",
       "\n",
       "   Longitude  \n",
       "0 -79.194353  \n",
       "1 -79.160497  \n",
       "2 -79.188711  \n",
       "3 -79.216917  \n",
       "4 -79.239476  "
      ]
     },
     "execution_count": 2,
     "metadata": {},
     "output_type": "execute_result"
    }
   ],
   "source": [
    "source=requests.get('https://en.wikipedia.org/wiki/List_of_postal_codes_of_Canada:_M').text\n",
    "soup = BeautifulSoup(source,'lxml')\n",
    "table=soup.find('table',{'class':'wikitable sortable'})\n",
    "table_rows = table.find_all('tr')\n",
    "res = []\n",
    "for tr in table_rows:\n",
    "    td = tr.find_all('td')\n",
    "    row = [tr.text.strip() for tr in td if tr.text.strip()]\n",
    "    if row:\n",
    "        res.append(row)\n",
    "df = pd.DataFrame(res, columns=[\"Postcode\", \"Borough\", \"Neighbourhood\"])\n",
    "df1=df[df.Borough != 'Not assigned']\n",
    "df2=df1.groupby([\"Postcode\",\"Borough\"])['Neighbourhood'].apply(','.join).reset_index()\n",
    "df2['Neighbourhood'] = np.where(df2['Neighbourhood'] == 'Not assigned', df2['Borough'], df2['Neighbourhood'])\n",
    "geodata = pd.read_csv(\"https://cocl.us/Geospatial_data\") \n",
    "geodata.rename(columns={'Postal Code':'Postcode'}, inplace=True)\n",
    "df3 = pd.merge(df2, geodata, on='Postcode')\n",
    "df3.head(5)"
   ]
  },
  {
   "cell_type": "code",
   "execution_count": 3,
   "metadata": {},
   "outputs": [
    {
     "data": {
      "text/plain": [
       "(103, 5)"
      ]
     },
     "execution_count": 3,
     "metadata": {},
     "output_type": "execute_result"
    }
   ],
   "source": [
    "df3.shape"
   ]
  },
  {
   "cell_type": "code",
   "execution_count": 4,
   "metadata": {},
   "outputs": [
    {
     "data": {
      "text/html": [
       "<div>\n",
       "<style scoped>\n",
       "    .dataframe tbody tr th:only-of-type {\n",
       "        vertical-align: middle;\n",
       "    }\n",
       "\n",
       "    .dataframe tbody tr th {\n",
       "        vertical-align: top;\n",
       "    }\n",
       "\n",
       "    .dataframe thead th {\n",
       "        text-align: right;\n",
       "    }\n",
       "</style>\n",
       "<table border=\"1\" class=\"dataframe\">\n",
       "  <thead>\n",
       "    <tr style=\"text-align: right;\">\n",
       "      <th></th>\n",
       "      <th>Postcode</th>\n",
       "      <th>Neighbourhood</th>\n",
       "      <th>Latitude</th>\n",
       "      <th>Longitude</th>\n",
       "    </tr>\n",
       "    <tr>\n",
       "      <th>Borough</th>\n",
       "      <th></th>\n",
       "      <th></th>\n",
       "      <th></th>\n",
       "      <th></th>\n",
       "    </tr>\n",
       "  </thead>\n",
       "  <tbody>\n",
       "    <tr>\n",
       "      <th>Central Toronto</th>\n",
       "      <td>9</td>\n",
       "      <td>9</td>\n",
       "      <td>9</td>\n",
       "      <td>9</td>\n",
       "    </tr>\n",
       "    <tr>\n",
       "      <th>Downtown Toronto</th>\n",
       "      <td>18</td>\n",
       "      <td>18</td>\n",
       "      <td>18</td>\n",
       "      <td>18</td>\n",
       "    </tr>\n",
       "    <tr>\n",
       "      <th>East Toronto</th>\n",
       "      <td>5</td>\n",
       "      <td>5</td>\n",
       "      <td>5</td>\n",
       "      <td>5</td>\n",
       "    </tr>\n",
       "    <tr>\n",
       "      <th>East York</th>\n",
       "      <td>5</td>\n",
       "      <td>5</td>\n",
       "      <td>5</td>\n",
       "      <td>5</td>\n",
       "    </tr>\n",
       "    <tr>\n",
       "      <th>Etobicoke</th>\n",
       "      <td>12</td>\n",
       "      <td>12</td>\n",
       "      <td>12</td>\n",
       "      <td>12</td>\n",
       "    </tr>\n",
       "    <tr>\n",
       "      <th>Mississauga</th>\n",
       "      <td>1</td>\n",
       "      <td>1</td>\n",
       "      <td>1</td>\n",
       "      <td>1</td>\n",
       "    </tr>\n",
       "    <tr>\n",
       "      <th>North York</th>\n",
       "      <td>24</td>\n",
       "      <td>24</td>\n",
       "      <td>24</td>\n",
       "      <td>24</td>\n",
       "    </tr>\n",
       "    <tr>\n",
       "      <th>Queen's Park</th>\n",
       "      <td>1</td>\n",
       "      <td>1</td>\n",
       "      <td>1</td>\n",
       "      <td>1</td>\n",
       "    </tr>\n",
       "    <tr>\n",
       "      <th>Scarborough</th>\n",
       "      <td>17</td>\n",
       "      <td>17</td>\n",
       "      <td>17</td>\n",
       "      <td>17</td>\n",
       "    </tr>\n",
       "    <tr>\n",
       "      <th>West Toronto</th>\n",
       "      <td>6</td>\n",
       "      <td>6</td>\n",
       "      <td>6</td>\n",
       "      <td>6</td>\n",
       "    </tr>\n",
       "    <tr>\n",
       "      <th>York</th>\n",
       "      <td>5</td>\n",
       "      <td>5</td>\n",
       "      <td>5</td>\n",
       "      <td>5</td>\n",
       "    </tr>\n",
       "  </tbody>\n",
       "</table>\n",
       "</div>"
      ],
      "text/plain": [
       "                  Postcode  Neighbourhood  Latitude  Longitude\n",
       "Borough                                                       \n",
       "Central Toronto          9              9         9          9\n",
       "Downtown Toronto        18             18        18         18\n",
       "East Toronto             5              5         5          5\n",
       "East York                5              5         5          5\n",
       "Etobicoke               12             12        12         12\n",
       "Mississauga              1              1         1          1\n",
       "North York              24             24        24         24\n",
       "Queen's Park             1              1         1          1\n",
       "Scarborough             17             17        17         17\n",
       "West Toronto             6              6         6          6\n",
       "York                     5              5         5          5"
      ]
     },
     "execution_count": 4,
     "metadata": {},
     "output_type": "execute_result"
    }
   ],
   "source": [
    "df3.groupby('Borough').count()"
   ]
  },
  {
   "cell_type": "code",
   "execution_count": 5,
   "metadata": {
    "scrolled": true
   },
   "outputs": [
    {
     "name": "stdout",
     "output_type": "stream",
     "text": [
      "Requirement already satisfied: geopy in c:\\users\\oxana_r7lkrla\\anaconda3\\lib\\site-packages (1.20.0)\n",
      "Requirement already satisfied: geographiclib<2,>=1.49 in c:\\users\\oxana_r7lkrla\\anaconda3\\lib\\site-packages (from geopy) (1.49)\n",
      "Requirement already satisfied: matplotlib in c:\\users\\oxana_r7lkrla\\anaconda3\\lib\\site-packages (3.0.3)\n",
      "Requirement already satisfied: numpy>=1.10.0 in c:\\users\\oxana_r7lkrla\\anaconda3\\lib\\site-packages (from matplotlib) (1.16.2)\n",
      "Requirement already satisfied: cycler>=0.10 in c:\\users\\oxana_r7lkrla\\anaconda3\\lib\\site-packages (from matplotlib) (0.10.0)\n",
      "Requirement already satisfied: kiwisolver>=1.0.1 in c:\\users\\oxana_r7lkrla\\anaconda3\\lib\\site-packages (from matplotlib) (1.0.1)\n",
      "Requirement already satisfied: pyparsing!=2.0.4,!=2.1.2,!=2.1.6,>=2.0.1 in c:\\users\\oxana_r7lkrla\\anaconda3\\lib\\site-packages (from matplotlib) (2.3.1)\n",
      "Requirement already satisfied: python-dateutil>=2.1 in c:\\users\\oxana_r7lkrla\\anaconda3\\lib\\site-packages (from matplotlib) (2.8.0)\n",
      "Requirement already satisfied: six in c:\\users\\oxana_r7lkrla\\anaconda3\\lib\\site-packages (from cycler>=0.10->matplotlib) (1.12.0)\n",
      "Requirement already satisfied: setuptools in c:\\users\\oxana_r7lkrla\\anaconda3\\lib\\site-packages (from kiwisolver>=1.0.1->matplotlib) (40.8.0)\n",
      "Requirement already satisfied: folium in c:\\users\\oxana_r7lkrla\\anaconda3\\lib\\site-packages (0.9.1)\n",
      "Requirement already satisfied: requests in c:\\users\\oxana_r7lkrla\\anaconda3\\lib\\site-packages (from folium) (2.21.0)\n",
      "Requirement already satisfied: jinja2>=2.9 in c:\\users\\oxana_r7lkrla\\anaconda3\\lib\\site-packages (from folium) (2.10)\n",
      "Requirement already satisfied: numpy in c:\\users\\oxana_r7lkrla\\anaconda3\\lib\\site-packages (from folium) (1.16.2)\n",
      "Requirement already satisfied: branca>=0.3.0 in c:\\users\\oxana_r7lkrla\\anaconda3\\lib\\site-packages (from folium) (0.3.1)\n",
      "Requirement already satisfied: chardet<3.1.0,>=3.0.2 in c:\\users\\oxana_r7lkrla\\anaconda3\\lib\\site-packages (from requests->folium) (3.0.4)\n",
      "Requirement already satisfied: idna<2.9,>=2.5 in c:\\users\\oxana_r7lkrla\\anaconda3\\lib\\site-packages (from requests->folium) (2.8)\n",
      "Requirement already satisfied: certifi>=2017.4.17 in c:\\users\\oxana_r7lkrla\\anaconda3\\lib\\site-packages (from requests->folium) (2019.3.9)\n",
      "Requirement already satisfied: urllib3<1.25,>=1.21.1 in c:\\users\\oxana_r7lkrla\\anaconda3\\lib\\site-packages (from requests->folium) (1.24.1)\n",
      "Requirement already satisfied: MarkupSafe>=0.23 in c:\\users\\oxana_r7lkrla\\anaconda3\\lib\\site-packages (from jinja2>=2.9->folium) (1.1.1)\n",
      "Requirement already satisfied: six in c:\\users\\oxana_r7lkrla\\anaconda3\\lib\\site-packages (from branca>=0.3.0->folium) (1.12.0)\n"
     ]
    }
   ],
   "source": [
    "# convert an address into latitude and longitude values\n",
    "!pip install geopy\n",
    "from geopy.geocoders import Nominatim # convert an address into latitude and longitude values\n",
    "\n",
    "# Matplotlib and associated plotting modules\n",
    "!pip install matplotlib\n",
    "import matplotlib.cm as cm\n",
    "import matplotlib.colors as colors\n",
    "\n",
    "# import k-means from clustering stage\n",
    "from sklearn.cluster import KMeans\n",
    "\n",
    "# map rendering library\n",
    "!pip install folium\n",
    "import folium\n",
    "\n",
    "# library to handle JSON files\n",
    "import json\n",
    "\n",
    "# tranform JSON file into a pandas dataframe\n",
    "from pandas.io.json import json_normalize "
   ]
  },
  {
   "cell_type": "markdown",
   "metadata": {},
   "source": [
    "Explore and cluster the neighborhoods in Toronto. You can decide to work with only boroughs that contain the word Toronto and then replicate the same analysis we did to the New York City data. It is up to you.\n",
    "\n",
    "Just make sure:\n",
    "1. to add enough Markdown cells to explain what you decided to do and to report any observations you make.\n",
    "2. to generate maps to visualize your neighborhoods and how they cluster together.\n",
    "\n",
    "Once you are happy with your analysis, submit a link to the new Notebook on your Github repository. (3 marks)"
   ]
  },
  {
   "cell_type": "code",
   "execution_count": 6,
   "metadata": {},
   "outputs": [
    {
     "name": "stdout",
     "output_type": "stream",
     "text": [
      "The geograpical coordinate of Toronto are 43.653963, -79.387207.\n"
     ]
    }
   ],
   "source": [
    "address = 'Toronto, Canada'\n",
    "geolocator = Nominatim(user_agent=\"ny_explorer\")\n",
    "location = geolocator.geocode(address)\n",
    "latitude = location.latitude\n",
    "longitude = location.longitude\n",
    "print('The geograpical coordinate of Toronto are {}, {}.'.format(latitude, longitude))"
   ]
  },
  {
   "cell_type": "code",
   "execution_count": 7,
   "metadata": {},
   "outputs": [
    {
     "data": {
      "text/html": [
       "<div style=\"width:100%;\"><div style=\"position:relative;width:100%;height:0;padding-bottom:60%;\"><iframe src=\"data:text/html;charset=utf-8;base64,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\" style=\"position:absolute;width:100%;height:100%;left:0;top:0;border:none !important;\" allowfullscreen webkitallowfullscreen mozallowfullscreen></iframe></div></div>"
      ],
      "text/plain": [
       "<folium.folium.Map at 0x1adb087a5c0>"
      ]
     },
     "execution_count": 7,
     "metadata": {},
     "output_type": "execute_result"
    }
   ],
   "source": [
    "# create map of Toronto using latitude and longitude values\n",
    "map_toronto = folium.Map(location=[latitude, longitude], zoom_start=10)\n",
    "\n",
    "# add markers to map\n",
    "for lat, lng, borough, neighbourhood in zip(df3['Latitude'], df3['Longitude'], df3['Borough'], df3['Neighbourhood']):\n",
    "    label = '{}, {}'.format(neighbourhood, borough)\n",
    "    label = folium.Popup(label, parse_html=True)\n",
    "    folium.CircleMarker(\n",
    "        [lat, lng],\n",
    "        radius=5,\n",
    "        popup=label,\n",
    "        color='blue',\n",
    "        fill=True,\n",
    "        fill_color='#3186cc',\n",
    "        fill_opacity=0.7,\n",
    "        parse_html=False).add_to(map_toronto)  \n",
    "    \n",
    "map_toronto"
   ]
  },
  {
   "cell_type": "code",
   "execution_count": 8,
   "metadata": {},
   "outputs": [
    {
     "data": {
      "text/html": [
       "<div>\n",
       "<style scoped>\n",
       "    .dataframe tbody tr th:only-of-type {\n",
       "        vertical-align: middle;\n",
       "    }\n",
       "\n",
       "    .dataframe tbody tr th {\n",
       "        vertical-align: top;\n",
       "    }\n",
       "\n",
       "    .dataframe thead th {\n",
       "        text-align: right;\n",
       "    }\n",
       "</style>\n",
       "<table border=\"1\" class=\"dataframe\">\n",
       "  <thead>\n",
       "    <tr style=\"text-align: right;\">\n",
       "      <th></th>\n",
       "      <th>Postcode</th>\n",
       "      <th>Borough</th>\n",
       "      <th>Neighbourhood</th>\n",
       "      <th>Latitude</th>\n",
       "      <th>Longitude</th>\n",
       "    </tr>\n",
       "  </thead>\n",
       "  <tbody>\n",
       "    <tr>\n",
       "      <th>0</th>\n",
       "      <td>M4N</td>\n",
       "      <td>Central Toronto</td>\n",
       "      <td>Lawrence Park</td>\n",
       "      <td>43.728020</td>\n",
       "      <td>-79.388790</td>\n",
       "    </tr>\n",
       "    <tr>\n",
       "      <th>1</th>\n",
       "      <td>M4P</td>\n",
       "      <td>Central Toronto</td>\n",
       "      <td>Davisville North</td>\n",
       "      <td>43.712751</td>\n",
       "      <td>-79.390197</td>\n",
       "    </tr>\n",
       "    <tr>\n",
       "      <th>2</th>\n",
       "      <td>M4R</td>\n",
       "      <td>Central Toronto</td>\n",
       "      <td>North Toronto West</td>\n",
       "      <td>43.715383</td>\n",
       "      <td>-79.405678</td>\n",
       "    </tr>\n",
       "    <tr>\n",
       "      <th>3</th>\n",
       "      <td>M4S</td>\n",
       "      <td>Central Toronto</td>\n",
       "      <td>Davisville</td>\n",
       "      <td>43.704324</td>\n",
       "      <td>-79.388790</td>\n",
       "    </tr>\n",
       "    <tr>\n",
       "      <th>4</th>\n",
       "      <td>M4T</td>\n",
       "      <td>Central Toronto</td>\n",
       "      <td>Moore Park,Summerhill East</td>\n",
       "      <td>43.689574</td>\n",
       "      <td>-79.383160</td>\n",
       "    </tr>\n",
       "    <tr>\n",
       "      <th>5</th>\n",
       "      <td>M4V</td>\n",
       "      <td>Central Toronto</td>\n",
       "      <td>Deer Park,Forest Hill SE,Rathnelly,South Hill,...</td>\n",
       "      <td>43.686412</td>\n",
       "      <td>-79.400049</td>\n",
       "    </tr>\n",
       "    <tr>\n",
       "      <th>6</th>\n",
       "      <td>M5N</td>\n",
       "      <td>Central Toronto</td>\n",
       "      <td>Roselawn</td>\n",
       "      <td>43.711695</td>\n",
       "      <td>-79.416936</td>\n",
       "    </tr>\n",
       "    <tr>\n",
       "      <th>7</th>\n",
       "      <td>M5P</td>\n",
       "      <td>Central Toronto</td>\n",
       "      <td>Forest Hill North,Forest Hill West</td>\n",
       "      <td>43.696948</td>\n",
       "      <td>-79.411307</td>\n",
       "    </tr>\n",
       "    <tr>\n",
       "      <th>8</th>\n",
       "      <td>M5R</td>\n",
       "      <td>Central Toronto</td>\n",
       "      <td>The Annex,North Midtown,Yorkville</td>\n",
       "      <td>43.672710</td>\n",
       "      <td>-79.405678</td>\n",
       "    </tr>\n",
       "  </tbody>\n",
       "</table>\n",
       "</div>"
      ],
      "text/plain": [
       "  Postcode          Borough  \\\n",
       "0      M4N  Central Toronto   \n",
       "1      M4P  Central Toronto   \n",
       "2      M4R  Central Toronto   \n",
       "3      M4S  Central Toronto   \n",
       "4      M4T  Central Toronto   \n",
       "5      M4V  Central Toronto   \n",
       "6      M5N  Central Toronto   \n",
       "7      M5P  Central Toronto   \n",
       "8      M5R  Central Toronto   \n",
       "\n",
       "                                       Neighbourhood   Latitude  Longitude  \n",
       "0                                      Lawrence Park  43.728020 -79.388790  \n",
       "1                                   Davisville North  43.712751 -79.390197  \n",
       "2                                 North Toronto West  43.715383 -79.405678  \n",
       "3                                         Davisville  43.704324 -79.388790  \n",
       "4                         Moore Park,Summerhill East  43.689574 -79.383160  \n",
       "5  Deer Park,Forest Hill SE,Rathnelly,South Hill,...  43.686412 -79.400049  \n",
       "6                                           Roselawn  43.711695 -79.416936  \n",
       "7                 Forest Hill North,Forest Hill West  43.696948 -79.411307  \n",
       "8                  The Annex,North Midtown,Yorkville  43.672710 -79.405678  "
      ]
     },
     "execution_count": 8,
     "metadata": {},
     "output_type": "execute_result"
    }
   ],
   "source": [
    "central_toronto = df3[df3['Borough'] == 'Central Toronto'].reset_index(drop=True)\n",
    "central_toronto.head(10)"
   ]
  },
  {
   "cell_type": "code",
   "execution_count": 9,
   "metadata": {},
   "outputs": [
    {
     "data": {
      "text/html": [
       "<div style=\"width:100%;\"><div style=\"position:relative;width:100%;height:0;padding-bottom:60%;\"><iframe src=\"data:text/html;charset=utf-8;base64,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\" style=\"position:absolute;width:100%;height:100%;left:0;top:0;border:none !important;\" allowfullscreen webkitallowfullscreen mozallowfullscreen></iframe></div></div>"
      ],
      "text/plain": [
       "<folium.folium.Map at 0x1adb0988c88>"
      ]
     },
     "execution_count": 9,
     "metadata": {},
     "output_type": "execute_result"
    }
   ],
   "source": [
    "# create map of Central Toronro using latitude and longitude values\n",
    "map_central_toronto = folium.Map(location=[latitude, longitude], zoom_start=10)\n",
    "\n",
    "# add markers to map\n",
    "for lat, lng, label in zip(central_toronto['Latitude'], central_toronto['Longitude'], central_toronto['Neighbourhood']):\n",
    "    label = folium.Popup(label, parse_html=True)\n",
    "    folium.CircleMarker(\n",
    "        [lat, lng],\n",
    "        radius=5,\n",
    "        popup=label,\n",
    "        color='blue',\n",
    "        fill=True,\n",
    "        fill_color='#3186cc',\n",
    "        fill_opacity=0.7,\n",
    "        parse_html=False).add_to(map_central_toronto)  \n",
    "    \n",
    "map_central_toronto"
   ]
  },
  {
   "cell_type": "markdown",
   "metadata": {},
   "source": [
    "Define Foursquare Credentials and Version:"
   ]
  },
  {
   "cell_type": "code",
   "execution_count": 10,
   "metadata": {},
   "outputs": [],
   "source": [
    "CLIENT_ID = 'RWLY0RHFLLB2X5L5SF2FV243QOFFSINLN0HZUOT1BFEBCK5G' # your Foursquare ID\n",
    "CLIENT_SECRET = 'SBFSJDUVKAH2EJRJFRDS1ZYIQYLTKOTXAYREQN5AENT4L5PA' # your Foursquare Secret\n",
    "VERSION = '20190609' # Foursquare API version"
   ]
  },
  {
   "cell_type": "markdown",
   "metadata": {},
   "source": [
    "Get the top 100 venues that are in neighbourhood Davisville in Central Toronto within a radius of 500 meters.\n",
    "\n",
    "I start with getting Davisville's latitude and longitude and convering those to scalar values which is necessary in order to use Foursquare."
   ]
  },
  {
   "cell_type": "code",
   "execution_count": 11,
   "metadata": {},
   "outputs": [],
   "source": [
    "davisville_lat=np.asscalar(df3.loc[df3['Neighbourhood'] == 'Davisville']['Latitude'].values)"
   ]
  },
  {
   "cell_type": "code",
   "execution_count": 12,
   "metadata": {},
   "outputs": [],
   "source": [
    "davisville_long=np.asscalar(df3.loc[df3['Neighbourhood'] == 'Davisville']['Longitude'].values)"
   ]
  },
  {
   "cell_type": "code",
   "execution_count": 13,
   "metadata": {},
   "outputs": [
    {
     "data": {
      "text/plain": [
       "'https://api.foursquare.com/v2/venues/explore?&client_id=RWLY0RHFLLB2X5L5SF2FV243QOFFSINLN0HZUOT1BFEBCK5G&client_secret=SBFSJDUVKAH2EJRJFRDS1ZYIQYLTKOTXAYREQN5AENT4L5PA&v=20190609&ll=43.7043244,-79.3887901&radius=500&limit=100'"
      ]
     },
     "execution_count": 13,
     "metadata": {},
     "output_type": "execute_result"
    }
   ],
   "source": [
    "LIMIT = 100 # limit of number of venues returned by Foursquare API\n",
    "radius = 500 # define radius\n",
    "# create URL\n",
    "url = 'https://api.foursquare.com/v2/venues/explore?&client_id={}&client_secret={}&v={}&ll={},{}&radius={}&limit={}'.format(\n",
    "    CLIENT_ID, \n",
    "    CLIENT_SECRET, \n",
    "    VERSION, \n",
    "    davisville_lat, \n",
    "    davisville_long, \n",
    "    radius, \n",
    "    LIMIT)\n",
    "url"
   ]
  },
  {
   "cell_type": "markdown",
   "metadata": {},
   "source": [
    "Send the GET request and examine the results:"
   ]
  },
  {
   "cell_type": "code",
   "execution_count": 32,
   "metadata": {},
   "outputs": [],
   "source": [
    "results = requests.get(url).json()\n",
    "#results"
   ]
  },
  {
   "cell_type": "markdown",
   "metadata": {},
   "source": [
    "Foursquare's \"get_category_type\" function that extracts the category of the venue:"
   ]
  },
  {
   "cell_type": "code",
   "execution_count": 33,
   "metadata": {},
   "outputs": [],
   "source": [
    "def get_category_type(row):\n",
    "    try:\n",
    "        categories_list = row['categories']\n",
    "    except:\n",
    "        categories_list = row['venue.categories']\n",
    "        \n",
    "    if len(categories_list) == 0:\n",
    "        return None\n",
    "    else:\n",
    "        return categories_list[0]['name']"
   ]
  },
  {
   "cell_type": "markdown",
   "metadata": {},
   "source": [
    "Structure json into a pandas dataframe:"
   ]
  },
  {
   "cell_type": "code",
   "execution_count": 34,
   "metadata": {},
   "outputs": [
    {
     "data": {
      "text/html": [
       "<div>\n",
       "<style scoped>\n",
       "    .dataframe tbody tr th:only-of-type {\n",
       "        vertical-align: middle;\n",
       "    }\n",
       "\n",
       "    .dataframe tbody tr th {\n",
       "        vertical-align: top;\n",
       "    }\n",
       "\n",
       "    .dataframe thead th {\n",
       "        text-align: right;\n",
       "    }\n",
       "</style>\n",
       "<table border=\"1\" class=\"dataframe\">\n",
       "  <thead>\n",
       "    <tr style=\"text-align: right;\">\n",
       "      <th></th>\n",
       "      <th>name</th>\n",
       "      <th>categories</th>\n",
       "      <th>lat</th>\n",
       "      <th>lng</th>\n",
       "    </tr>\n",
       "  </thead>\n",
       "  <tbody>\n",
       "    <tr>\n",
       "      <th>0</th>\n",
       "      <td>Downtown Toronto</td>\n",
       "      <td>Neighborhood</td>\n",
       "      <td>43.653232</td>\n",
       "      <td>-79.385296</td>\n",
       "    </tr>\n",
       "    <tr>\n",
       "      <th>1</th>\n",
       "      <td>Art Gallery of Ontario</td>\n",
       "      <td>Art Gallery</td>\n",
       "      <td>43.654003</td>\n",
       "      <td>-79.392922</td>\n",
       "    </tr>\n",
       "    <tr>\n",
       "      <th>2</th>\n",
       "      <td>Nathan Phillips Square</td>\n",
       "      <td>Plaza</td>\n",
       "      <td>43.652270</td>\n",
       "      <td>-79.383516</td>\n",
       "    </tr>\n",
       "    <tr>\n",
       "      <th>3</th>\n",
       "      <td>Four Seasons Centre for the Performing Arts</td>\n",
       "      <td>Concert Hall</td>\n",
       "      <td>43.650592</td>\n",
       "      <td>-79.385806</td>\n",
       "    </tr>\n",
       "    <tr>\n",
       "      <th>4</th>\n",
       "      <td>Pai</td>\n",
       "      <td>Thai Restaurant</td>\n",
       "      <td>43.647923</td>\n",
       "      <td>-79.388579</td>\n",
       "    </tr>\n",
       "  </tbody>\n",
       "</table>\n",
       "</div>"
      ],
      "text/plain": [
       "                                          name       categories        lat  \\\n",
       "0                             Downtown Toronto     Neighborhood  43.653232   \n",
       "1                       Art Gallery of Ontario      Art Gallery  43.654003   \n",
       "2                       Nathan Phillips Square            Plaza  43.652270   \n",
       "3  Four Seasons Centre for the Performing Arts     Concert Hall  43.650592   \n",
       "4                                          Pai  Thai Restaurant  43.647923   \n",
       "\n",
       "         lng  \n",
       "0 -79.385296  \n",
       "1 -79.392922  \n",
       "2 -79.383516  \n",
       "3 -79.385806  \n",
       "4 -79.388579  "
      ]
     },
     "execution_count": 34,
     "metadata": {},
     "output_type": "execute_result"
    }
   ],
   "source": [
    "venues = results['response']['groups'][0]['items']\n",
    "    \n",
    "nearby_venues = json_normalize(venues) # flatten JSON\n",
    "\n",
    "# filter columns\n",
    "filtered_columns = ['venue.name', 'venue.categories', 'venue.location.lat', 'venue.location.lng']\n",
    "nearby_venues =nearby_venues.loc[:, filtered_columns]\n",
    "\n",
    "# filter the category for each row\n",
    "nearby_venues['venue.categories'] = nearby_venues.apply(get_category_type, axis=1)\n",
    "\n",
    "# clean columns\n",
    "nearby_venues.columns = [col.split(\".\")[-1] for col in nearby_venues.columns]\n",
    "\n",
    "nearby_venues.head(5)"
   ]
  },
  {
   "cell_type": "code",
   "execution_count": 35,
   "metadata": {},
   "outputs": [
    {
     "data": {
      "text/plain": [
       "(100, 4)"
      ]
     },
     "execution_count": 35,
     "metadata": {},
     "output_type": "execute_result"
    }
   ],
   "source": [
    "nearby_venues.shape"
   ]
  },
  {
   "cell_type": "markdown",
   "metadata": {},
   "source": [
    "Explore all of the neighbourhoods in Central Toronto in the similar way:"
   ]
  },
  {
   "cell_type": "code",
   "execution_count": 36,
   "metadata": {},
   "outputs": [],
   "source": [
    "def getNearbyVenues(names, latitudes, longitudes, radius=500):\n",
    "    \n",
    "    venues_list=[]\n",
    "    for name, lat, lng in zip(names, latitudes, longitudes):\n",
    "        print(name)\n",
    "            \n",
    "        # create the API request URL\n",
    "        url = 'https://api.foursquare.com/v2/venues/explore?&client_id={}&client_secret={}&v={}&ll={},{}&radius={}&limit={}'.format(\n",
    "            CLIENT_ID, \n",
    "            CLIENT_SECRET, \n",
    "            VERSION, \n",
    "            lat, \n",
    "            lng, \n",
    "            radius, \n",
    "            LIMIT)\n",
    "            \n",
    "        # make the GET request\n",
    "        results = requests.get(url).json()[\"response\"]['groups'][0]['items']\n",
    "        \n",
    "        # return only relevant information for each nearby venue\n",
    "        venues_list.append([(\n",
    "            name, \n",
    "            lat, \n",
    "            lng, \n",
    "            v['venue']['name'], \n",
    "            v['venue']['location']['lat'], \n",
    "            v['venue']['location']['lng'],  \n",
    "            v['venue']['categories'][0]['name']) for v in results])\n",
    "\n",
    "    nearby_venues = pd.DataFrame([item for venue_list in venues_list for item in venue_list])\n",
    "    nearby_venues.columns = ['Neighbourhood', \n",
    "                  'Neighbourhood Latitude', \n",
    "                  'Neighbourhood Longitude', \n",
    "                  'Venue', \n",
    "                  'Venue Latitude', \n",
    "                  'Venue Longitude', \n",
    "                  'Venue Category']\n",
    "    \n",
    "    return(nearby_venues)"
   ]
  },
  {
   "cell_type": "code",
   "execution_count": 37,
   "metadata": {},
   "outputs": [
    {
     "data": {
      "text/html": [
       "<div>\n",
       "<style scoped>\n",
       "    .dataframe tbody tr th:only-of-type {\n",
       "        vertical-align: middle;\n",
       "    }\n",
       "\n",
       "    .dataframe tbody tr th {\n",
       "        vertical-align: top;\n",
       "    }\n",
       "\n",
       "    .dataframe thead th {\n",
       "        text-align: right;\n",
       "    }\n",
       "</style>\n",
       "<table border=\"1\" class=\"dataframe\">\n",
       "  <thead>\n",
       "    <tr style=\"text-align: right;\">\n",
       "      <th></th>\n",
       "      <th>Postcode</th>\n",
       "      <th>Borough</th>\n",
       "      <th>Neighbourhood</th>\n",
       "      <th>Latitude</th>\n",
       "      <th>Longitude</th>\n",
       "    </tr>\n",
       "  </thead>\n",
       "  <tbody>\n",
       "    <tr>\n",
       "      <th>0</th>\n",
       "      <td>M4N</td>\n",
       "      <td>Central Toronto</td>\n",
       "      <td>Lawrence Park</td>\n",
       "      <td>43.728020</td>\n",
       "      <td>-79.388790</td>\n",
       "    </tr>\n",
       "    <tr>\n",
       "      <th>1</th>\n",
       "      <td>M4P</td>\n",
       "      <td>Central Toronto</td>\n",
       "      <td>Davisville North</td>\n",
       "      <td>43.712751</td>\n",
       "      <td>-79.390197</td>\n",
       "    </tr>\n",
       "    <tr>\n",
       "      <th>2</th>\n",
       "      <td>M4R</td>\n",
       "      <td>Central Toronto</td>\n",
       "      <td>North Toronto West</td>\n",
       "      <td>43.715383</td>\n",
       "      <td>-79.405678</td>\n",
       "    </tr>\n",
       "    <tr>\n",
       "      <th>3</th>\n",
       "      <td>M4S</td>\n",
       "      <td>Central Toronto</td>\n",
       "      <td>Davisville</td>\n",
       "      <td>43.704324</td>\n",
       "      <td>-79.388790</td>\n",
       "    </tr>\n",
       "    <tr>\n",
       "      <th>4</th>\n",
       "      <td>M4T</td>\n",
       "      <td>Central Toronto</td>\n",
       "      <td>Moore Park,Summerhill East</td>\n",
       "      <td>43.689574</td>\n",
       "      <td>-79.383160</td>\n",
       "    </tr>\n",
       "    <tr>\n",
       "      <th>5</th>\n",
       "      <td>M4V</td>\n",
       "      <td>Central Toronto</td>\n",
       "      <td>Deer Park,Forest Hill SE,Rathnelly,South Hill,...</td>\n",
       "      <td>43.686412</td>\n",
       "      <td>-79.400049</td>\n",
       "    </tr>\n",
       "    <tr>\n",
       "      <th>6</th>\n",
       "      <td>M5N</td>\n",
       "      <td>Central Toronto</td>\n",
       "      <td>Roselawn</td>\n",
       "      <td>43.711695</td>\n",
       "      <td>-79.416936</td>\n",
       "    </tr>\n",
       "    <tr>\n",
       "      <th>7</th>\n",
       "      <td>M5P</td>\n",
       "      <td>Central Toronto</td>\n",
       "      <td>Forest Hill North,Forest Hill West</td>\n",
       "      <td>43.696948</td>\n",
       "      <td>-79.411307</td>\n",
       "    </tr>\n",
       "    <tr>\n",
       "      <th>8</th>\n",
       "      <td>M5R</td>\n",
       "      <td>Central Toronto</td>\n",
       "      <td>The Annex,North Midtown,Yorkville</td>\n",
       "      <td>43.672710</td>\n",
       "      <td>-79.405678</td>\n",
       "    </tr>\n",
       "  </tbody>\n",
       "</table>\n",
       "</div>"
      ],
      "text/plain": [
       "  Postcode          Borough  \\\n",
       "0      M4N  Central Toronto   \n",
       "1      M4P  Central Toronto   \n",
       "2      M4R  Central Toronto   \n",
       "3      M4S  Central Toronto   \n",
       "4      M4T  Central Toronto   \n",
       "5      M4V  Central Toronto   \n",
       "6      M5N  Central Toronto   \n",
       "7      M5P  Central Toronto   \n",
       "8      M5R  Central Toronto   \n",
       "\n",
       "                                       Neighbourhood   Latitude  Longitude  \n",
       "0                                      Lawrence Park  43.728020 -79.388790  \n",
       "1                                   Davisville North  43.712751 -79.390197  \n",
       "2                                 North Toronto West  43.715383 -79.405678  \n",
       "3                                         Davisville  43.704324 -79.388790  \n",
       "4                         Moore Park,Summerhill East  43.689574 -79.383160  \n",
       "5  Deer Park,Forest Hill SE,Rathnelly,South Hill,...  43.686412 -79.400049  \n",
       "6                                           Roselawn  43.711695 -79.416936  \n",
       "7                 Forest Hill North,Forest Hill West  43.696948 -79.411307  \n",
       "8                  The Annex,North Midtown,Yorkville  43.672710 -79.405678  "
      ]
     },
     "execution_count": 37,
     "metadata": {},
     "output_type": "execute_result"
    }
   ],
   "source": [
    "central_toronto"
   ]
  },
  {
   "cell_type": "code",
   "execution_count": 38,
   "metadata": {},
   "outputs": [
    {
     "name": "stdout",
     "output_type": "stream",
     "text": [
      "Lawrence Park\n",
      "Davisville North\n",
      "North Toronto West\n",
      "Davisville\n",
      "Moore Park,Summerhill East\n",
      "Deer Park,Forest Hill SE,Rathnelly,South Hill,Summerhill West\n",
      "Roselawn\n",
      "Forest Hill North,Forest Hill West\n",
      "The Annex,North Midtown,Yorkville\n"
     ]
    }
   ],
   "source": [
    "central_toronto_venues = getNearbyVenues(names=central_toronto['Neighbourhood'],\n",
    "                                         latitudes=central_toronto['Latitude'],\n",
    "                                         longitudes=central_toronto['Longitude'])"
   ]
  },
  {
   "cell_type": "code",
   "execution_count": 26,
   "metadata": {},
   "outputs": [
    {
     "name": "stdout",
     "output_type": "stream",
     "text": [
      "(110, 7)\n"
     ]
    },
    {
     "data": {
      "text/html": [
       "<div>\n",
       "<style scoped>\n",
       "    .dataframe tbody tr th:only-of-type {\n",
       "        vertical-align: middle;\n",
       "    }\n",
       "\n",
       "    .dataframe tbody tr th {\n",
       "        vertical-align: top;\n",
       "    }\n",
       "\n",
       "    .dataframe thead th {\n",
       "        text-align: right;\n",
       "    }\n",
       "</style>\n",
       "<table border=\"1\" class=\"dataframe\">\n",
       "  <thead>\n",
       "    <tr style=\"text-align: right;\">\n",
       "      <th></th>\n",
       "      <th>Neighbourhood</th>\n",
       "      <th>Neighbourhood Latitude</th>\n",
       "      <th>Neighbourhood Longitude</th>\n",
       "      <th>Venue</th>\n",
       "      <th>Venue Latitude</th>\n",
       "      <th>Venue Longitude</th>\n",
       "      <th>Venue Category</th>\n",
       "    </tr>\n",
       "  </thead>\n",
       "  <tbody>\n",
       "    <tr>\n",
       "      <th>0</th>\n",
       "      <td>Lawrence Park</td>\n",
       "      <td>43.728020</td>\n",
       "      <td>-79.388790</td>\n",
       "      <td>Lawrence Park Ravine</td>\n",
       "      <td>43.726963</td>\n",
       "      <td>-79.394382</td>\n",
       "      <td>Park</td>\n",
       "    </tr>\n",
       "    <tr>\n",
       "      <th>1</th>\n",
       "      <td>Lawrence Park</td>\n",
       "      <td>43.728020</td>\n",
       "      <td>-79.388790</td>\n",
       "      <td>Zodiac Swim School</td>\n",
       "      <td>43.728532</td>\n",
       "      <td>-79.382860</td>\n",
       "      <td>Swim School</td>\n",
       "    </tr>\n",
       "    <tr>\n",
       "      <th>2</th>\n",
       "      <td>Lawrence Park</td>\n",
       "      <td>43.728020</td>\n",
       "      <td>-79.388790</td>\n",
       "      <td>TTC Bus #162 - Lawrence-Donway</td>\n",
       "      <td>43.728026</td>\n",
       "      <td>-79.382805</td>\n",
       "      <td>Bus Line</td>\n",
       "    </tr>\n",
       "    <tr>\n",
       "      <th>3</th>\n",
       "      <td>Davisville North</td>\n",
       "      <td>43.712751</td>\n",
       "      <td>-79.390197</td>\n",
       "      <td>Sherwood Park</td>\n",
       "      <td>43.716551</td>\n",
       "      <td>-79.387776</td>\n",
       "      <td>Park</td>\n",
       "    </tr>\n",
       "    <tr>\n",
       "      <th>4</th>\n",
       "      <td>Davisville North</td>\n",
       "      <td>43.712751</td>\n",
       "      <td>-79.390197</td>\n",
       "      <td>Summerhill Market North</td>\n",
       "      <td>43.715499</td>\n",
       "      <td>-79.392881</td>\n",
       "      <td>Food &amp; Drink Shop</td>\n",
       "    </tr>\n",
       "  </tbody>\n",
       "</table>\n",
       "</div>"
      ],
      "text/plain": [
       "      Neighbourhood  Neighbourhood Latitude  Neighbourhood Longitude  \\\n",
       "0     Lawrence Park               43.728020               -79.388790   \n",
       "1     Lawrence Park               43.728020               -79.388790   \n",
       "2     Lawrence Park               43.728020               -79.388790   \n",
       "3  Davisville North               43.712751               -79.390197   \n",
       "4  Davisville North               43.712751               -79.390197   \n",
       "\n",
       "                            Venue  Venue Latitude  Venue Longitude  \\\n",
       "0            Lawrence Park Ravine       43.726963       -79.394382   \n",
       "1              Zodiac Swim School       43.728532       -79.382860   \n",
       "2  TTC Bus #162 - Lawrence-Donway       43.728026       -79.382805   \n",
       "3                   Sherwood Park       43.716551       -79.387776   \n",
       "4         Summerhill Market North       43.715499       -79.392881   \n",
       "\n",
       "      Venue Category  \n",
       "0               Park  \n",
       "1        Swim School  \n",
       "2           Bus Line  \n",
       "3               Park  \n",
       "4  Food & Drink Shop  "
      ]
     },
     "execution_count": 26,
     "metadata": {},
     "output_type": "execute_result"
    }
   ],
   "source": [
    "print(central_toronto_venues.shape)\n",
    "central_toronto_venues.head()"
   ]
  },
  {
   "cell_type": "code",
   "execution_count": 27,
   "metadata": {},
   "outputs": [
    {
     "data": {
      "text/html": [
       "<div>\n",
       "<style scoped>\n",
       "    .dataframe tbody tr th:only-of-type {\n",
       "        vertical-align: middle;\n",
       "    }\n",
       "\n",
       "    .dataframe tbody tr th {\n",
       "        vertical-align: top;\n",
       "    }\n",
       "\n",
       "    .dataframe thead th {\n",
       "        text-align: right;\n",
       "    }\n",
       "</style>\n",
       "<table border=\"1\" class=\"dataframe\">\n",
       "  <thead>\n",
       "    <tr style=\"text-align: right;\">\n",
       "      <th></th>\n",
       "      <th>Neighbourhood Latitude</th>\n",
       "      <th>Neighbourhood Longitude</th>\n",
       "      <th>Venue</th>\n",
       "      <th>Venue Latitude</th>\n",
       "      <th>Venue Longitude</th>\n",
       "      <th>Venue Category</th>\n",
       "    </tr>\n",
       "    <tr>\n",
       "      <th>Neighbourhood</th>\n",
       "      <th></th>\n",
       "      <th></th>\n",
       "      <th></th>\n",
       "      <th></th>\n",
       "      <th></th>\n",
       "      <th></th>\n",
       "    </tr>\n",
       "  </thead>\n",
       "  <tbody>\n",
       "    <tr>\n",
       "      <th>Davisville</th>\n",
       "      <td>38</td>\n",
       "      <td>38</td>\n",
       "      <td>38</td>\n",
       "      <td>38</td>\n",
       "      <td>38</td>\n",
       "      <td>38</td>\n",
       "    </tr>\n",
       "    <tr>\n",
       "      <th>Davisville North</th>\n",
       "      <td>8</td>\n",
       "      <td>8</td>\n",
       "      <td>8</td>\n",
       "      <td>8</td>\n",
       "      <td>8</td>\n",
       "      <td>8</td>\n",
       "    </tr>\n",
       "    <tr>\n",
       "      <th>Deer Park,Forest Hill SE,Rathnelly,South Hill,Summerhill West</th>\n",
       "      <td>14</td>\n",
       "      <td>14</td>\n",
       "      <td>14</td>\n",
       "      <td>14</td>\n",
       "      <td>14</td>\n",
       "      <td>14</td>\n",
       "    </tr>\n",
       "    <tr>\n",
       "      <th>Forest Hill North,Forest Hill West</th>\n",
       "      <td>4</td>\n",
       "      <td>4</td>\n",
       "      <td>4</td>\n",
       "      <td>4</td>\n",
       "      <td>4</td>\n",
       "      <td>4</td>\n",
       "    </tr>\n",
       "    <tr>\n",
       "      <th>Lawrence Park</th>\n",
       "      <td>3</td>\n",
       "      <td>3</td>\n",
       "      <td>3</td>\n",
       "      <td>3</td>\n",
       "      <td>3</td>\n",
       "      <td>3</td>\n",
       "    </tr>\n",
       "    <tr>\n",
       "      <th>Moore Park,Summerhill East</th>\n",
       "      <td>2</td>\n",
       "      <td>2</td>\n",
       "      <td>2</td>\n",
       "      <td>2</td>\n",
       "      <td>2</td>\n",
       "      <td>2</td>\n",
       "    </tr>\n",
       "    <tr>\n",
       "      <th>North Toronto West</th>\n",
       "      <td>16</td>\n",
       "      <td>16</td>\n",
       "      <td>16</td>\n",
       "      <td>16</td>\n",
       "      <td>16</td>\n",
       "      <td>16</td>\n",
       "    </tr>\n",
       "    <tr>\n",
       "      <th>Roselawn</th>\n",
       "      <td>2</td>\n",
       "      <td>2</td>\n",
       "      <td>2</td>\n",
       "      <td>2</td>\n",
       "      <td>2</td>\n",
       "      <td>2</td>\n",
       "    </tr>\n",
       "    <tr>\n",
       "      <th>The Annex,North Midtown,Yorkville</th>\n",
       "      <td>23</td>\n",
       "      <td>23</td>\n",
       "      <td>23</td>\n",
       "      <td>23</td>\n",
       "      <td>23</td>\n",
       "      <td>23</td>\n",
       "    </tr>\n",
       "  </tbody>\n",
       "</table>\n",
       "</div>"
      ],
      "text/plain": [
       "                                                    Neighbourhood Latitude  \\\n",
       "Neighbourhood                                                                \n",
       "Davisville                                                              38   \n",
       "Davisville North                                                         8   \n",
       "Deer Park,Forest Hill SE,Rathnelly,South Hill,S...                      14   \n",
       "Forest Hill North,Forest Hill West                                       4   \n",
       "Lawrence Park                                                            3   \n",
       "Moore Park,Summerhill East                                               2   \n",
       "North Toronto West                                                      16   \n",
       "Roselawn                                                                 2   \n",
       "The Annex,North Midtown,Yorkville                                       23   \n",
       "\n",
       "                                                    Neighbourhood Longitude  \\\n",
       "Neighbourhood                                                                 \n",
       "Davisville                                                               38   \n",
       "Davisville North                                                          8   \n",
       "Deer Park,Forest Hill SE,Rathnelly,South Hill,S...                       14   \n",
       "Forest Hill North,Forest Hill West                                        4   \n",
       "Lawrence Park                                                             3   \n",
       "Moore Park,Summerhill East                                                2   \n",
       "North Toronto West                                                       16   \n",
       "Roselawn                                                                  2   \n",
       "The Annex,North Midtown,Yorkville                                        23   \n",
       "\n",
       "                                                    Venue  Venue Latitude  \\\n",
       "Neighbourhood                                                               \n",
       "Davisville                                             38              38   \n",
       "Davisville North                                        8               8   \n",
       "Deer Park,Forest Hill SE,Rathnelly,South Hill,S...     14              14   \n",
       "Forest Hill North,Forest Hill West                      4               4   \n",
       "Lawrence Park                                           3               3   \n",
       "Moore Park,Summerhill East                              2               2   \n",
       "North Toronto West                                     16              16   \n",
       "Roselawn                                                2               2   \n",
       "The Annex,North Midtown,Yorkville                      23              23   \n",
       "\n",
       "                                                    Venue Longitude  \\\n",
       "Neighbourhood                                                         \n",
       "Davisville                                                       38   \n",
       "Davisville North                                                  8   \n",
       "Deer Park,Forest Hill SE,Rathnelly,South Hill,S...               14   \n",
       "Forest Hill North,Forest Hill West                                4   \n",
       "Lawrence Park                                                     3   \n",
       "Moore Park,Summerhill East                                        2   \n",
       "North Toronto West                                               16   \n",
       "Roselawn                                                          2   \n",
       "The Annex,North Midtown,Yorkville                                23   \n",
       "\n",
       "                                                    Venue Category  \n",
       "Neighbourhood                                                       \n",
       "Davisville                                                      38  \n",
       "Davisville North                                                 8  \n",
       "Deer Park,Forest Hill SE,Rathnelly,South Hill,S...              14  \n",
       "Forest Hill North,Forest Hill West                               4  \n",
       "Lawrence Park                                                    3  \n",
       "Moore Park,Summerhill East                                       2  \n",
       "North Toronto West                                              16  \n",
       "Roselawn                                                         2  \n",
       "The Annex,North Midtown,Yorkville                               23  "
      ]
     },
     "execution_count": 27,
     "metadata": {},
     "output_type": "execute_result"
    }
   ],
   "source": [
    "central_toronto_venues.groupby('Neighbourhood').count()"
   ]
  },
  {
   "cell_type": "code",
   "execution_count": 29,
   "metadata": {},
   "outputs": [
    {
     "name": "stdout",
     "output_type": "stream",
     "text": [
      "There are 61 uniques categories in Central Toronto.\n"
     ]
    }
   ],
   "source": [
    "print('There are {} uniques categories in Central Toronto.'.format(len(central_toronto_venues['Venue Category'].unique())))"
   ]
  },
  {
   "cell_type": "markdown",
   "metadata": {},
   "source": [
    "## Cluster Neighbourhoods\n",
    "I'll go back to analyzing the whole city of Toronro instead of one borough since it won't be so much to cluster otherwise :)\n",
    "Therefore, I'll need to repeat some of the steps from above at first."
   ]
  },
  {
   "cell_type": "code",
   "execution_count": 31,
   "metadata": {},
   "outputs": [
    {
     "data": {
      "text/plain": [
       "'https://api.foursquare.com/v2/venues/explore?&client_id=RWLY0RHFLLB2X5L5SF2FV243QOFFSINLN0HZUOT1BFEBCK5G&client_secret=SBFSJDUVKAH2EJRJFRDS1ZYIQYLTKOTXAYREQN5AENT4L5PA&v=20190609&ll=43.653963,-79.387207&radius=5000&limit=1000'"
      ]
     },
     "execution_count": 31,
     "metadata": {},
     "output_type": "execute_result"
    }
   ],
   "source": [
    "LIMIT = 1000 # limit of number of venues returned by Foursquare API\n",
    "radius = 5000 # define radius\n",
    "# create URL\n",
    "url = 'https://api.foursquare.com/v2/venues/explore?&client_id={}&client_secret={}&v={}&ll={},{}&radius={}&limit={}'.format(\n",
    "    CLIENT_ID, \n",
    "    CLIENT_SECRET, \n",
    "    VERSION, \n",
    "    latitude, \n",
    "    longitude, \n",
    "    radius, \n",
    "    LIMIT)\n",
    "url"
   ]
  },
  {
   "cell_type": "code",
   "execution_count": 30,
   "metadata": {},
   "outputs": [
    {
     "ename": "NameError",
     "evalue": "name 'toronto_grouped' is not defined",
     "output_type": "error",
     "traceback": [
      "\u001b[1;31m---------------------------------------------------------------------------\u001b[0m",
      "\u001b[1;31mNameError\u001b[0m                                 Traceback (most recent call last)",
      "\u001b[1;32m<ipython-input-30-f44f92f6a3e2>\u001b[0m in \u001b[0;36m<module>\u001b[1;34m\u001b[0m\n\u001b[0;32m      2\u001b[0m \u001b[0mkclusters\u001b[0m \u001b[1;33m=\u001b[0m \u001b[1;36m5\u001b[0m\u001b[1;33m\u001b[0m\u001b[1;33m\u001b[0m\u001b[0m\n\u001b[0;32m      3\u001b[0m \u001b[1;33m\u001b[0m\u001b[0m\n\u001b[1;32m----> 4\u001b[1;33m \u001b[0mtoronto_grouped_clustering\u001b[0m \u001b[1;33m=\u001b[0m \u001b[0mtoronto_grouped\u001b[0m\u001b[1;33m.\u001b[0m\u001b[0mdrop\u001b[0m\u001b[1;33m(\u001b[0m\u001b[1;34m'Neighbourhood'\u001b[0m\u001b[1;33m,\u001b[0m \u001b[1;36m1\u001b[0m\u001b[1;33m)\u001b[0m\u001b[1;33m\u001b[0m\u001b[1;33m\u001b[0m\u001b[0m\n\u001b[0m\u001b[0;32m      5\u001b[0m \u001b[1;33m\u001b[0m\u001b[0m\n\u001b[0;32m      6\u001b[0m \u001b[1;31m# run k-means clustering\u001b[0m\u001b[1;33m\u001b[0m\u001b[1;33m\u001b[0m\u001b[1;33m\u001b[0m\u001b[0m\n",
      "\u001b[1;31mNameError\u001b[0m: name 'toronto_grouped' is not defined"
     ]
    }
   ],
   "source": [
    "# set number of clusters\n",
    "kclusters = 5\n",
    "\n",
    "toronto_grouped_clustering = toronto_grouped.drop('Neighbourhood', 1)\n",
    "\n",
    "# run k-means clustering\n",
    "kmeans = KMeans(n_clusters=kclusters, random_state=0).fit(toronto_grouped_clustering)\n",
    "\n",
    "# check cluster labels generated for each row in the dataframe\n",
    "kmeans.labels_[0:10] "
   ]
  },
  {
   "cell_type": "code",
   "execution_count": null,
   "metadata": {},
   "outputs": [],
   "source": []
  }
 ],
 "metadata": {
  "kernelspec": {
   "display_name": "Python 3",
   "language": "python",
   "name": "python3"
  },
  "language_info": {
   "codemirror_mode": {
    "name": "ipython",
    "version": 3
   },
   "file_extension": ".py",
   "mimetype": "text/x-python",
   "name": "python",
   "nbconvert_exporter": "python",
   "pygments_lexer": "ipython3",
   "version": "3.7.3"
  }
 },
 "nbformat": 4,
 "nbformat_minor": 2
}
