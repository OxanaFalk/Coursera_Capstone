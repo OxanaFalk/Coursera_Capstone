{
 "cells": [
  {
   "cell_type": "markdown",
   "metadata": {},
   "source": [
    "[Draft]\n",
    "\n",
    "# Classification of Stockholm neighborhoods using Foursquare data\n",
    "Oxana Falk, July 2019\n",
    "\n",
    "## 1. Introduction\n",
    "\n",
    "Stockholm is one of the five fastest growing regions in Europe. The city population has grown by almost 30 percent during last 20 years and in 2020, Stockholm is expected to have one million inhabitants.  \n",
    "\n",
    "This project aims to describe different parts of Stockholm by studying neighborhoods surrounding metro stations. There are 100 stations in use of which 82 belong to the City of Stockholm and the rest in neighboring municipalities that are relatively close to the city center. The length of the metro lines varies between 15.1 and 28.6 kilometers.  \n",
    "\n",
    "The result can be useful for someone who is planning to move to Stockholm and would like to find a place that fits their lifestyle and interests.\n",
    "\n",
    "\n",
    "\n",
    "## 2. Data\n",
    "\n",
    "### 2.1 Data sources\n",
    "List of the metro stations and their geographical location can be found on [Wikipedia](https://sv.wikipedia.org/w/index.php?title=Lista_%C3%B6ver_tunnelbanestationer_i_Stockholm&oldid=46033661).\n",
    "\n",
    "To explore and later classify the neighborhoods surrounding each station I will use Foursquare data, primarily at the main group level:\n",
    "* Arts & Entertainment\n",
    "* College & University\n",
    "* Event\n",
    "* Food\n",
    "* Nightlife Spot\n",
    "* Outdoors & Recreation\n",
    "* Professional & Other Places\n",
    "* Residence\n",
    "* Shop & Service\n",
    "* Travel & Transport\n",
    "\n",
    "\n",
    "### 2.2 Data cleaning\n",
    "\n",
    "## 3. Methodology\n",
    "\n",
    "### 3.1 Exploratory Data Analysis\n",
    "### 3.2 Data preparation\n",
    "### 3.3 Clustering\n",
    "## 4. Results\n",
    "## 5. Discussion\n",
    "## 6. Conclusion"
   ]
  },
  {
   "cell_type": "code",
   "execution_count": null,
   "metadata": {},
   "outputs": [],
   "source": []
  },
  {
   "cell_type": "code",
   "execution_count": null,
   "metadata": {},
   "outputs": [],
   "source": []
  }
 ],
 "metadata": {
  "kernelspec": {
   "display_name": "Python 3",
   "language": "python",
   "name": "python3"
  },
  "language_info": {
   "codemirror_mode": {
    "name": "ipython",
    "version": 3
   },
   "file_extension": ".py",
   "mimetype": "text/x-python",
   "name": "python",
   "nbconvert_exporter": "python",
   "pygments_lexer": "ipython3",
   "version": "3.7.3"
  }
 },
 "nbformat": 4,
 "nbformat_minor": 2
}
