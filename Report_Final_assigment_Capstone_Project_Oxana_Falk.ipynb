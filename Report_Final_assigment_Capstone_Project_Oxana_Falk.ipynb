{
 "cells": [
  {
   "cell_type": "markdown",
   "metadata": {},
   "source": [
    "[Draft]\n",
    "\n",
    "# Final report: Classification of Stockholm neighborhoods using Foursquare data\n",
    "Oxana Falk, July 2019"
   ]
  },
  {
   "cell_type": "markdown",
   "metadata": {},
   "source": [
    "## Table of contents\n",
    "* [Introduction](#introduction)\n",
    "* [Data](#data)\n",
    "* [Methodology](#methodology)\n",
    "* [Results](#results)\n",
    "* [Discussion](#discussion)\n",
    "* [Conclusion](#conclusion)"
   ]
  },
  {
   "cell_type": "markdown",
   "metadata": {},
   "source": [
    "## 1. Introduction <a name=\"introduction\"></a>\n",
    "\n",
    "Stockholm is one of the five fastest growing regions in Europe. The city population has grown by almost 30 percent during last 20 years and in 2020, Stockholm is expected to have one million inhabitants.  \n",
    "\n",
    "This project aims to describe different parts of Stockholm by studying neighborhoods surrounding metro stations. There are 100 stations in use of which 82 belong to the City of Stockholm and the rest in neighboring municipalities that are relatively close to the city center. The length of the metro lines varies between 15.1 and 28.6 kilometers.  \n",
    "\n",
    "The result can be useful for someone who is planning to move to Stockholm and would like to find a place that fits their lifestyle and interests.\n",
    "\n",
    "\n",
    "\n",
    "## 2. Data <a name=\"data\"></a>\n",
    "\n",
    "### 2.1 Data sources\n",
    "List of the metro stations and their geographical location can be found on [Wikipedia](https://sv.wikipedia.org/w/index.php?title=Lista_%C3%B6ver_tunnelbanestationer_i_Stockholm&oldid=46033661).\n",
    "\n",
    "To explore and later classify the neighborhoods surrounding each station I will use Foursquare data, primarily at the main group level:\n",
    "* Arts & Entertainment\n",
    "* College & University\n",
    "* Event\n",
    "* Food\n",
    "* Nightlife Spot\n",
    "* Outdoors & Recreation\n",
    "* Professional & Other Places\n",
    "* Residence\n",
    "* Shop & Service\n",
    "* Travel & Transport\n",
    "\n",
    "\n",
    "### 2.2 Data cleaning\n",
    "\n",
    "## 3. Methodology <a name=\"methodology\"></a>\n",
    "\n",
    "### 3.1 Exploratory Data Analysis\n",
    "### 3.2 Data preparation\n",
    "### 3.3 Clustering\n",
    "\n",
    "2 clusters give very general results\n",
    "\n",
    "\n",
    "|Number of clusters|Distribution between clusters|Comment|\n",
    "| --- | :------ | ----------- |\n",
    "|2|k = 1: 23<br/>k = 2: 77|The result is too general and both of the clusters are very mixed|\n",
    "|3|k = 1: 58<br/>k = 2: 41<br/> k = 3: 1|Same issue as above - basically only two clusters and the results are still too general|\n",
    "\n",
    "\n",
    "fgf\n",
    "\n",
    "| Number of<br/>clusters | Distribution                          | Comment                             |\n",
    "| :---                   | :----:                                |          ---:                       |\n",
    "| 2                      | k = 1: 23<br/>k = 2: 77               | The result is too general and both of the clusters contain<br/>very mixed venue categories |\n",
    "| 3                      | k = 1: 58<br/>k = 2: 41<br/> k = 3: 1 | Same issue as above - basically only two clusters and<br/>the results are still too general      |\n",
    "| 4                      | k = 1: 19<br/>k = 2: 1<br/> k = 3: 67<br/>k = 4: 13 | The result is more balanced except from the cluster that<br/>only contains one metro station |\n",
    "| 5                      | k = 1: 11<br/>k = 2: 10<br/> k = 3: 66<br/>k = 4: 12<br/>k = 5: 1 | The result is even more balanced compared to four clusters except from<br/>the cluster that only contains one metro station |\n",
    "| 6                      | k = 1: 11<br/>k = 2: 10<br/> k = 3: 65<br/>k = 4: 12<br/>k = 5: 1<br/>k = 6: 1 | The result is more balanced except from<br/>the cluster that only contains one metro station |\n",
    "| 7                      | k = 1: 3<br/>k = 2: 20<br/> k = 3: 1<br/>k = 4: 1<br/>k = 5: 69<br/>k = 6: 5<br/>k = 7: 1| Most of the clusters include very few stations - this model<br/>has basically only two clusters  worth interpreting|\n",
    "\n",
    "\n",
    "## 4. Results <a name=\"results\"></a>\n",
    "## 5. Discussion <a name=\"discussion\"></a>\n",
    "## 6. Conclusion <a name=\"conclusion\"></a>"
   ]
  },
  {
   "cell_type": "code",
   "execution_count": null,
   "metadata": {},
   "outputs": [],
   "source": []
  },
  {
   "cell_type": "code",
   "execution_count": null,
   "metadata": {},
   "outputs": [],
   "source": []
  }
 ],
 "metadata": {
  "kernelspec": {
   "display_name": "Python 3",
   "language": "python",
   "name": "python3"
  },
  "language_info": {
   "codemirror_mode": {
    "name": "ipython",
    "version": 3
   },
   "file_extension": ".py",
   "mimetype": "text/x-python",
   "name": "python",
   "nbconvert_exporter": "python",
   "pygments_lexer": "ipython3",
   "version": "3.7.3"
  }
 },
 "nbformat": 4,
 "nbformat_minor": 2
}
