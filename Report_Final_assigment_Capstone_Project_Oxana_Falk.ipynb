{
 "cells": [
  {
   "cell_type": "markdown",
   "metadata": {},
   "source": [
    "[Draft]\n",
    "\n",
    "# Final report: Classification of Stockholm neighborhoods using Foursquare data\n",
    "Oxana Falk, July 2019"
   ]
  },
  {
   "cell_type": "markdown",
   "metadata": {},
   "source": [
    "## Abstract\n",
    "\n",
    "This assigment aims to analyze different neighborhoods of Stockholm by exploring venues surrounding the metro stations and describe different clusters of neighborhoods. Unsupervised machine learning method, K-means clustering, is used to carry out the analysis. In total, X clusters were identified and analyzed, where the two thirds of neighborhoods belong to one cluster while XXX. The largests cluster cointains a big variety of venue categories and covers around two thirds of the metro stations spread through the entire city. The main conclusion is that Stockholm offers a wide variety of venues and is quite homogeneous in terms of no clear difference between the city center and the rest of the area."
   ]
  },
  {
   "cell_type": "markdown",
   "metadata": {},
   "source": [
    "## Table of contents\n",
    "* [Introduction](#introduction)\n",
    "* [Data](#data)\n",
    "* [Methodology](#methodology)\n",
    "* [Results](#results)\n",
    "* [Discussion](#discussion)\n",
    "* [Conclusion](#conclusion)\n",
    "* [Appendix](#appendix)"
   ]
  },
  {
   "cell_type": "markdown",
   "metadata": {},
   "source": [
    "## 1. Introduction <a name=\"introduction\"></a>\n",
    "\n",
    "Stockholm is one of the five fastest growing regions in Europe. The city population has grown by almost 30 percent during last 20 years and in 2020, Stockholm is expected to have one million inhabitants.  \n",
    "\n",
    "This project aims to describe different parts of Stockholm by studying neighborhoods surrounding metro stations. There are 100 stations in use of which 82 belong to the City of Stockholm and the rest in neighboring municipalities that are relatively close to the city center.\n",
    "\n",
    "The result can be useful for someone who is planning to move to Stockholm and would like to find a place that fits their lifestyle and interests.\n",
    "\n",
    "\n",
    "## 2. Data <a name=\"data\"></a>\n",
    "\n",
    "This project required only two data sources and the cleaning part was quite straightforward. \n",
    "\n",
    "### 2.1 Data sources\n",
    "\n",
    "The data sources used in this assigment:\n",
    "1. List of the metro stations in Stockholm and their geographical coordinates web scraped from [Wikipedia](https://sv.wikipedia.org/w/index.php?title=Lista_%C3%B6ver_tunnelbanestationer_i_Stockholm&oldid=46033661).\n",
    "\n",
    "2. In order to explore and classify the neighborhoods surrounding each metro station, [Foursquare venue data](https://developer.foursquare.com/docs/api/venues/search) was used. The average distance between two metro stations in Stockholm is approximately 1 km (both the arithmetic mean and the median). In order to avoid overlapping and to cover reasonable walking distance around each station, the radius of the query was limited to 500 meters.\n",
    "\n",
    "\n",
    "### 2.2 Data cleaning\n",
    "For the metro station data, the following cleaning was performed:\n",
    "* Only opened och functioning stations were used.\n",
    "* Only columns \"Station name\", \"Longitude\" and \"Latitude\" were kept, the rest was dropped.\n",
    "* Dublicates were removed. In the original table there are some stations that are represented on multiple metro lines but since the fact that those stations have the same name and coordinates and lines are not of interest for this project, only unique combitations of station names and coordinates were kept.\n",
    "* Information about previous station names was removed since it's not relevant for this assigment.\n",
    "\n",
    "For the Foursqaure data, the following cleaning was performed: \n",
    "* Venue category \"Metro station\" was removed since it's our entry variable.\n",
    "\n",
    "## 3. Methodology <a name=\"methodology\"></a>\n",
    "\n",
    "### 3.1 Exploratory Data Analysis\n",
    "The length of the metro lines varies between 15.1 and 28.6 kilometers. \n",
    "Distance between stations\n",
    "Show the map of Sthlm with metro stops on it here\n",
    "Number of categories, try to show the main ones?\n",
    "Mention that some of the stations have very few amount of venues - something for someone who prefers that?\n",
    "\n",
    "### 3.2 Data preparation\n",
    "Limited to top 5 categories, describe how many are left\n",
    "Maybe show the main group for those ones. How to get it in an easy way?\n",
    "\n",
    "\n",
    "### 3.3 Clustering\n",
    "Before the clustering - decide the best number of clusters.\n",
    "Show the results on the map\n",
    "\n",
    "2 clusters give very general results\n",
    "\n",
    "\n",
    "|Number of clusters|Distribution between clusters|Comment|\n",
    "| --- | :------ | ----------- |\n",
    "|2|k = 1: 23<br/>k = 2: 77|The result is too general and both of the clusters are very mixed|\n",
    "|3|k = 1: 58<br/>k = 2: 41<br/> k = 3: 1|Same issue as above - basically only two clusters and the results are still too general|\n",
    "\n",
    "\n",
    "fgf\n",
    "\n",
    "| Number of<br/>clusters | Distribution                          | Comment                             |\n",
    "| :---                   | :----:                                |          ---:                       |\n",
    "| 2                      | k = 1: 23<br/>k = 2: 77               | The result is too general and both of the clusters contain<br/>very mixed venue categories |\n",
    "| 3                      | k = 1: 58<br/>k = 2: 41<br/> k = 3: 1 | Same issue as above - basically only two clusters and<br/>the results are still too general      |\n",
    "| 4                      | k = 1: 19<br/>k = 2: 1<br/> k = 3: 67<br/>k = 4: 13 | The result is more balanced except from the cluster that<br/>only contains one metro station |\n",
    "| 5                      | k = 1: 11<br/>k = 2: 10<br/> k = 3: 66<br/>k = 4: 12<br/>k = 5: 1 | The result is even more balanced compared to four clusters except from<br/>the cluster that only contains one metro station |\n",
    "| 6                      | k = 1: 11<br/>k = 2: 10<br/> k = 3: 65<br/>k = 4: 12<br/>k = 5: 1<br/>k = 6: 1 | The result is more balanced except from<br/>the cluster that only contains one metro station |\n",
    "| 7                      | k = 1: 3<br/>k = 2: 20<br/> k = 3: 1<br/>k = 4: 1<br/>k = 5: 69<br/>k = 6: 5<br/>k = 7: 1| Most of the clusters include very few stations - this model<br/>has basically only two clusters  worth interpreting|\n",
    "\n",
    "\n",
    "## 4. Results <a name=\"results\"></a>\n",
    "\n",
    "Describe every cluster\n",
    "\n",
    "\n",
    "## 5. Discussion <a name=\"discussion\"></a>\n",
    "\n",
    "The purpose of the discussion is to interpret and describe the significance of your findings in light of what was already known about the research problem being investigated, and to explain any new understanding or fresh insights about the problem after you've taken the findings into consideration.\n",
    "\n",
    "Used only Foursquare. Further analysis could contain information e.g. about available preschools and schools, housing price level and availability among with other parameters that matter once moving to a new city.\n",
    "\n",
    "## 6. Conclusion <a name=\"conclusion\"></a>\n",
    "\n",
    "A conclusion is, in some ways, like your introduction. You restate your thesis and summarize your main points of evidence for the reader.You can usually do this in one paragraph. In the following example, the thesis statement is in bold. Notice that it is written in 2 sentences.\n",
    "\n",
    "Judging from venues, Stockholm seems to be quite homogenouse city\n",
    "\n",
    "## Appendix <a name=\"appendix\"></a>\n",
    "List of the stations within each cluster\n"
   ]
  },
  {
   "cell_type": "code",
   "execution_count": null,
   "metadata": {},
   "outputs": [],
   "source": []
  },
  {
   "cell_type": "code",
   "execution_count": null,
   "metadata": {},
   "outputs": [],
   "source": []
  }
 ],
 "metadata": {
  "kernelspec": {
   "display_name": "Python 3",
   "language": "python",
   "name": "python3"
  },
  "language_info": {
   "codemirror_mode": {
    "name": "ipython",
    "version": 3
   },
   "file_extension": ".py",
   "mimetype": "text/x-python",
   "name": "python",
   "nbconvert_exporter": "python",
   "pygments_lexer": "ipython3",
   "version": "3.7.3"
  }
 },
 "nbformat": 4,
 "nbformat_minor": 2
}
